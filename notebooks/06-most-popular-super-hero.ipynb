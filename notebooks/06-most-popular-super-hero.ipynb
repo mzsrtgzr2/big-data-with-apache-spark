{
 "cells": [
  {
   "cell_type": "code",
   "execution_count": 7,
   "metadata": {},
   "outputs": [
    {
     "name": "stdout",
     "output_type": "stream",
     "text": [
      "CAPTAIN AMERICA 1933\n"
     ]
    }
   ],
   "source": [
    "from pyspark import SparkConf, SparkContext\n",
    "import re\n",
    "\n",
    "def load_names():\n",
    "    names_map = {}\n",
    "    with open(\"/home/jovyan/work/data/Marvel-names.txt\", encoding='utf-8', errors='ignore') as f:\n",
    "        for line in f:\n",
    "            z = re.match('^(.*)\\s\\\"(.*)\\\"$', line)\n",
    "            if z:\n",
    "                groups = z.groups()\n",
    "                _id, _name = groups\n",
    "                names_map[int(_id)] = _name\n",
    "            else:\n",
    "                print('ignore line', line)\n",
    "    return names_map\n",
    "\n",
    "conf = SparkConf().setMaster(\"local\").setAppName(\"PopularSuperHeros\")\n",
    "sc = SparkContext.getOrCreate(conf = conf)\n",
    "\n",
    "names_map = load_names()\n",
    "\n",
    "lines = sc.textFile(\"file:///home/jovyan/work/data/Marvel-graph.txt\")\n",
    "def parse_line(line):\n",
    "    ids = list(map(int, line.split()))\n",
    "    origin = ids[0]\n",
    "    for other_id in ids[1:]:\n",
    "        yield (origin, other_id)\n",
    "        \n",
    "heroes_relations = lines.flatMap(parse_line)\n",
    "\n",
    "occurences = heroes_relations.map(lambda relation: (relation[1], 1))\n",
    "\n",
    "occurences_counts = occurences.reduceByKey(lambda x, y: x + y)\n",
    "\n",
    "max_hero = occurences_counts.reduce(lambda hero1, hero2: hero1 if hero1[1]>hero2[1] else hero2)\n",
    "\n",
    "print(names_map[max_hero[0]], max_hero[1])"
   ]
  }
 ],
 "metadata": {
  "kernelspec": {
   "display_name": "Python 3",
   "language": "python",
   "name": "python3"
  },
  "language_info": {
   "codemirror_mode": {
    "name": "ipython",
    "version": 3
   },
   "file_extension": ".py",
   "mimetype": "text/x-python",
   "name": "python",
   "nbconvert_exporter": "python",
   "pygments_lexer": "ipython3",
   "version": "3.7.6"
  }
 },
 "nbformat": 4,
 "nbformat_minor": 4
}
