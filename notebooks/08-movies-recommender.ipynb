{
 "cells": [
  {
   "cell_type": "code",
   "execution_count": 15,
   "metadata": {},
   "outputs": [
    {
     "name": "stdout",
     "output_type": "stream",
     "text": [
      "((242, 580), <pyspark.resultiterable.ResultIterable object at 0x7f0d5b233050>)\n",
      "((242, 692), <pyspark.resultiterable.ResultIterable object at 0x7f0d5b23ae50>)\n",
      "((242, 428), <pyspark.resultiterable.ResultIterable object at 0x7f0d5b233150>)\n",
      "((242, 340), <pyspark.resultiterable.ResultIterable object at 0x7f0d5b2330d0>)\n",
      "((393, 1241), <pyspark.resultiterable.ResultIterable object at 0x7f0d5b2331d0>)\n",
      "((393, 845), <pyspark.resultiterable.ResultIterable object at 0x7f0d5b233210>)\n",
      "((381, 393), <pyspark.resultiterable.ResultIterable object at 0x7f0d5b233250>)\n",
      "((381, 1241), <pyspark.resultiterable.ResultIterable object at 0x7f0d5b233110>)\n",
      "((381, 845), <pyspark.resultiterable.ResultIterable object at 0x7f0d5b2332d0>)\n",
      "((251, 655), <pyspark.resultiterable.ResultIterable object at 0x7f0d5b233310>)\n",
      "((251, 663), <pyspark.resultiterable.ResultIterable object at 0x7f0d5b233350>)\n",
      "((251, 287), <pyspark.resultiterable.ResultIterable object at 0x7f0d5b233390>)\n",
      "((251, 1007), <pyspark.resultiterable.ResultIterable object at 0x7f0d5b2333d0>)\n",
      "((251, 411), <pyspark.resultiterable.ResultIterable object at 0x7f0d5b233410>)\n",
      "((655, 663), <pyspark.resultiterable.ResultIterable object at 0x7f0d5b233450>)\n",
      "((655, 1007), <pyspark.resultiterable.ResultIterable object at 0x7f0d5b233290>)\n",
      "((67, 251), <pyspark.resultiterable.ResultIterable object at 0x7f0d5b2334d0>)\n",
      "((67, 655), <pyspark.resultiterable.ResultIterable object at 0x7f0d5b233510>)\n",
      "((67, 663), <pyspark.resultiterable.ResultIterable object at 0x7f0d5b233550>)\n",
      "((67, 111), <pyspark.resultiterable.ResultIterable object at 0x7f0d5b233590>)\n"
     ]
    }
   ],
   "source": [
    "from pyspark import SparkConf, SparkContext\n",
    "\n",
    "def load_movies_names():\n",
    "    movieNames = {}\n",
    "    with open(\"/home/jovyan/work/data/ml-100k/u.item\", encoding='utf-8',\n",
    "                 errors='ignore') as f:\n",
    "        for line in f:\n",
    "            fields = line.split('|')\n",
    "            movieNames[int(fields[0])] = fields[1]\n",
    "    return movieNames\n",
    "\n",
    "conf = SparkConf().setMaster(\"local[*]\").setAppName(\"RecommendMovies\")\n",
    "sc = SparkContext.getOrCreate(conf = conf)\n",
    "\n",
    "nameDict = sc.broadcast(load_movies_names())\n",
    "\n",
    "lines = sc.textFile(\"file:///home/jovyan/work/data/ml-100k/u.data\")\n",
    "user_movies_ratings = lines.map(lambda x: x.split()).map(lambda f: (int(f[0]), (int(f[1]), float(f[2]))) )\n",
    "\n",
    "user_movies_ratings_joins = user_movies_ratings.join(user_movies_ratings).persist()\n",
    "    \n",
    "def filter_join(x):\n",
    "    _, value = x\n",
    "    c1, c2 = value\n",
    "    m1, r1 = c1\n",
    "    m2, r2 = c2\n",
    "    \n",
    "    return m1<m2\n",
    "    \n",
    "user_movies_ratings_filtered = user_movies_ratings_joins.filter(filter_join)\n",
    "def squash_to_movies_combos(x):\n",
    "    _, ((m1,r1), (m2, r2)) = x\n",
    "    return ((m1,m2), (r1,r2))\n",
    "movies_combos = user_movies_ratings_filtered.map(squash_to_movies_combos)\n",
    "\n",
    "movies_ratings_grouped = movies_combos.groupByKey()\n",
    "\n",
    "movies_combos = movies_ratings_grouped.mapValues(calc_scores)\n",
    "\n",
    "for result in movies_ratings.take(20):\n",
    "    print (result)\n"
   ]
  },
  {
   "cell_type": "code",
   "execution_count": null,
   "metadata": {},
   "outputs": [],
   "source": []
  }
 ],
 "metadata": {
  "kernelspec": {
   "display_name": "Python 3",
   "language": "python",
   "name": "python3"
  },
  "language_info": {
   "codemirror_mode": {
    "name": "ipython",
    "version": 3
   },
   "file_extension": ".py",
   "mimetype": "text/x-python",
   "name": "python",
   "nbconvert_exporter": "python",
   "pygments_lexer": "ipython3",
   "version": "3.7.6"
  }
 },
 "nbformat": 4,
 "nbformat_minor": 4
}
